{
 "cells": [
  {
   "cell_type": "code",
   "execution_count": 2,
   "metadata": {
    "collapsed": true
   },
   "outputs": [],
   "source": [
    "import pickle,subprocess,csv,os"
   ]
  },
  {
   "cell_type": "code",
   "execution_count": 3,
   "metadata": {
    "collapsed": true
   },
   "outputs": [],
   "source": [
    "### 1. Enter the name of the analysis\n",
    "### 2. Enter the name of the drug. This can be a drug bank ID or the name of drug that isn't in drug bank\n",
    "### 3. (Optional) Enter the targets. This only works if you have entered a drug from DrugBank. \n",
    "###.   For investigational drugs, you will need to enter the targets associated with that drug.\n",
    "\n",
    "#analysis_name = 'YOUR_NAME' \n",
    "#drug_name = 'DRUGNAME' \n",
    "#drug_targets = 'TARG1,TARG2,TARG3' \n",
    "\n",
    "analysis_name = 'PathFX_demo_2' \n",
    "drug_name = 'Jenimab' \n",
    "drug_targets = 'EGFR,ABL1,ABCB1' "
   ]
  },
  {
   "cell_type": "code",
   "execution_count": 6,
   "metadata": {},
   "outputs": [
    {
     "name": "stdout",
     "output_type": "stream",
     "text": [
      "source ~/myvenv/bin/activate\n"
     ]
    },
    {
     "data": {
      "text/plain": [
       "0"
      ]
     },
     "execution_count": 6,
     "metadata": {},
     "output_type": "execute_result"
    }
   ],
   "source": [
    "cmd = 'source ~/myvenv/bin/activate'\n",
    "print(cmd)\n",
    "os.system(cmd)"
   ]
  },
  {
   "cell_type": "code",
   "execution_count": 7,
   "metadata": {},
   "outputs": [
    {
     "name": "stdout",
     "output_type": "stream",
     "text": [
      "python phenotype_enrichment_pathway.py -d Jenimab -a PathFX_demo_2 -t EGFR,ABL1,ABCB1\n"
     ]
    },
    {
     "data": {
      "text/plain": [
       "256"
      ]
     },
     "execution_count": 7,
     "metadata": {},
     "output_type": "execute_result"
    }
   ],
   "source": [
    "cmd = 'python phenotype_enrichment_pathway.py -d %s -a %s -t %s'%(drug_name,analysis_name,drug_targets)\n",
    "print(cmd)\n",
    "os.system(cmd)\n",
    "#test = subprocess.run(['python','phenotype_enrichment_pathway.py','-d',drug_name,'-a',analysis_name,'-t',drug_targets],shell=True,check=True)\n"
   ]
  },
  {
   "cell_type": "code",
   "execution_count": null,
   "metadata": {
    "collapsed": true
   },
   "outputs": [],
   "source": []
  }
 ],
 "metadata": {
  "kernelspec": {
   "display_name": "Python 3",
   "language": "python",
   "name": "python3"
  },
  "language_info": {
   "codemirror_mode": {
    "name": "ipython",
    "version": 3
   },
   "file_extension": ".py",
   "mimetype": "text/x-python",
   "name": "python",
   "nbconvert_exporter": "python",
   "pygments_lexer": "ipython3",
   "version": "3.6.3"
  }
 },
 "nbformat": 4,
 "nbformat_minor": 2
}
