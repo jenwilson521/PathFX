{
 "cells": [
  {
   "cell_type": "code",
   "execution_count": null,
   "metadata": {
    "collapsed": true
   },
   "outputs": [],
   "source": [
    "# Written to perform PathFX analysis \n",
    "# for all drugs in DrugBank\n",
    "# re-written 8-28-19 JLW\n",
    "\n",
    "import pickle,os,csv\n",
    "\n",
    "rscs_dir = '../rscs/'\n",
    "\n",
    "db2n = pickle.load(open(os.path.join(rscs_dir,'drugbankid_to_name.pkl'),'rb'))\n",
    "dint = pickle.load(open(os.path.join(rscs_dir,'drug_intome_targets.pkl'),'rb'))"
   ]
  },
  {
   "cell_type": "code",
   "execution_count": null,
   "metadata": {
    "collapsed": true
   },
   "outputs": [],
   "source": [
    "analysis_name = 'all_network_results'\n",
    "res_dir = os.path.join('../results/',analysis_name)\n",
    "if not os.path.exists(res_dir):\n",
    "        os.makedirs(res_dir)\n"
   ]
  },
  {
   "cell_type": "code",
   "execution_count": null,
   "metadata": {
    "collapsed": true
   },
   "outputs": [],
   "source": [
    "for dbid in sorted(db2n.keys()):\n",
    "        if dbid in dint:\n",
    "                print(dbid)\n",
    "                cmd = 'python phenotype_enrichment_pathway.py -d %s -a %s'%(dbid,analysis_name)\n",
    "                os.system(cmd)\n"
   ]
  }
 ],
 "metadata": {
  "kernelspec": {
   "display_name": "Python 3",
   "language": "python",
   "name": "python3"
  },
  "language_info": {
   "codemirror_mode": {
    "name": "ipython",
    "version": 3
   },
   "file_extension": ".py",
   "mimetype": "text/x-python",
   "name": "python",
   "nbconvert_exporter": "python",
   "pygments_lexer": "ipython3",
   "version": "3.6.3"
  }
 },
 "nbformat": 4,
 "nbformat_minor": 2
}
