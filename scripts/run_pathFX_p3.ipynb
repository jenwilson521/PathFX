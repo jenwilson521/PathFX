{
 "cells": [
  {
   "cell_type": "code",
   "execution_count": 1,
   "metadata": {
    "collapsed": true
   },
   "outputs": [],
   "source": [
    "import pickle,subprocess,csv,os"
   ]
  },
  {
   "cell_type": "code",
   "execution_count": 2,
   "metadata": {
    "collapsed": true
   },
   "outputs": [],
   "source": [
    "### 1. Enter the name of the analysis\n",
    "### 2. Enter the name of the drug. This can be a drug bank ID or the name of drug that isn't in drug bank\n",
    "### 3. (Optional) Enter the targets. This only works if you have entered a drug from DrugBank. \n",
    "###.   For investigational drugs, you will need to enter the targets associated with that drug.\n",
    "\n",
    "#analysis_name = 'YOUR_NAME' \n",
    "#drug_name = 'DRUGNAME' \n",
    "#drug_targets = 'TARG1,TARG2,TARG3' \n",
    "\n",
    "analysis_name = 'PathFX_demo_2' \n",
    "drug_name = 'Jenimab' \n",
    "drug_targets = 'EGFR,ABL1,ABCB1' "
   ]
  },
  {
   "cell_type": "code",
   "execution_count": 11,
   "metadata": {},
   "outputs": [],
   "source": [
    "def subprocess_cmd(command):\n",
    "    process = subprocess.Popen(command,stdout=subprocess.PIPE, shell=True)\n",
    "    proc_stdout = process.communicate()[0].strip()\n",
    "    print(proc_stdout)"
   ]
  },
  {
   "cell_type": "code",
   "execution_count": 17,
   "metadata": {},
   "outputs": [
    {
     "name": "stdout",
     "output_type": "stream",
     "text": [
      "source ~/myvenv/bin/activate\n",
      "python phenotype_enrichment_pathway.py -d Jenimab -a PathFX_demo_2 -t EGFR,ABL1,ABCB1\n",
      "b'gathering network data\\ncalculating hypergeometric probabilities\\nsaving to output\\nNo drug bank targets found\\n\\nJenimab\\nresults in: ../results/pathfx_demo_2/Jenimab\\ntargets: EGFR ABL1 ABCB1\\nmerging\\nphenotypic enrichment'\n"
     ]
    },
    {
     "ename": "AttributeError",
     "evalue": "'NoneType' object has no attribute 'split'",
     "output_type": "error",
     "traceback": [
      "\u001b[0;31m---------------------------------------------------------------------------\u001b[0m",
      "\u001b[0;31mAttributeError\u001b[0m                            Traceback (most recent call last)",
      "\u001b[0;32m<ipython-input-17-376752c1ebed>\u001b[0m in \u001b[0;36m<module>\u001b[0;34m()\u001b[0m\n\u001b[1;32m      4\u001b[0m \u001b[0mprint\u001b[0m\u001b[0;34m(\u001b[0m\u001b[0mfull_cmd\u001b[0m\u001b[0;34m)\u001b[0m\u001b[0;34m\u001b[0m\u001b[0m\n\u001b[1;32m      5\u001b[0m \u001b[0moutp\u001b[0m \u001b[0;34m=\u001b[0m \u001b[0msubprocess_cmd\u001b[0m\u001b[0;34m(\u001b[0m\u001b[0mfull_cmd\u001b[0m\u001b[0;34m)\u001b[0m\u001b[0;34m\u001b[0m\u001b[0m\n\u001b[0;32m----> 6\u001b[0;31m \u001b[0mprint\u001b[0m\u001b[0;34m(\u001b[0m\u001b[0moutp\u001b[0m\u001b[0;34m.\u001b[0m\u001b[0msplit\u001b[0m\u001b[0;34m(\u001b[0m\u001b[0;34m'\\n'\u001b[0m\u001b[0;34m)\u001b[0m\u001b[0;34m)\u001b[0m\u001b[0;34m\u001b[0m\u001b[0m\n\u001b[0m",
      "\u001b[0;31mAttributeError\u001b[0m: 'NoneType' object has no attribute 'split'"
     ]
    }
   ],
   "source": [
    "cmd1 = 'source ~/myvenv/bin/activate'\n",
    "cmd2 = 'python phenotype_enrichment_pathway.py -d %s -a %s -t %s'%(drug_name,analysis_name,drug_targets)\n",
    "full_cmd = '\\n'.join([cmd1,cmd2])\n",
    "print(full_cmd)\n",
    "outp = subprocess_cmd(full_cmd)\n",
    "print(outp.split('\\n'))"
   ]
  },
  {
   "cell_type": "code",
   "execution_count": null,
   "metadata": {
    "collapsed": true
   },
   "outputs": [],
   "source": []
  }
 ],
 "metadata": {
  "kernelspec": {
   "display_name": "Python 3",
   "language": "python",
   "name": "python3"
  },
  "language_info": {
   "codemirror_mode": {
    "name": "ipython",
    "version": 3
   },
   "file_extension": ".py",
   "mimetype": "text/x-python",
   "name": "python",
   "nbconvert_exporter": "python",
   "pygments_lexer": "ipython3",
   "version": "3.6.3"
  }
 },
 "nbformat": 4,
 "nbformat_minor": 2
}
